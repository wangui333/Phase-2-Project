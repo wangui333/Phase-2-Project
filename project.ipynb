{
 "cells": [
  {
   "cell_type": "markdown",
   "id": "36d5d98b-bb6d-4a01-a36c-62736db68ed7",
   "metadata": {},
   "source": [
    "# **MOVIE ANALYSIS PROJECT**\n",
    "- This project is about `tn` and `tnmb` dataset on finding what makes a movie to be a success, by researching on genres, revenues, popularity and votes.\n",
    "All this can help the company heads with deciding on which movie to produce.\n"
   ]
  },
  {
   "cell_type": "code",
   "execution_count": 159,
   "id": "56013bb0-7c9c-4c56-84ba-148cacd5e915",
   "metadata": {},
   "outputs": [],
   "source": [
    "#Importing libraries\n",
    "import pandas as pd\n",
    "import numpy as np\n",
    "import matplotlib.pyplot as plt"
   ]
  },
  {
   "cell_type": "markdown",
   "id": "43e23945-c19c-45c5-8086-d72249ecebaa",
   "metadata": {},
   "source": [
    "## **First DataFrame**"
   ]
  },
  {
   "cell_type": "code",
   "execution_count": 160,
   "id": "fd964a8a-31f2-4d42-9d84-fdb943a16b04",
   "metadata": {},
   "outputs": [],
   "source": [
    "#Load the dataset\n",
    "df1=pd.read_csv('tn.movie_budgets.csv')"
   ]
  },
  {
   "cell_type": "markdown",
   "id": "6362b2f7-a251-466f-abc7-871374db7d66",
   "metadata": {},
   "source": [
    "# **Data Understanding**\n",
    "- Shape, column names\n",
    "- Missing values\n",
    "- Sample rows\n",
    "- Basic statistics"
   ]
  },
  {
   "cell_type": "markdown",
   "id": "73cdaf67-ce0a-4b92-aa57-055522d59bbc",
   "metadata": {},
   "source": [
    "### **Explore the Dataset**\r\n"
   ]
  },
  {
   "cell_type": "raw",
   "id": "bfa81509-50e8-4f73-8458-e88af7c07f97",
   "metadata": {},
   "source": [
    "#Views top 5 rows\n",
    "df1.head()\n"
   ]
  },
  {
   "cell_type": "code",
   "execution_count": 161,
   "id": "24f3d535-4522-44a1-a159-852d54354462",
   "metadata": {},
   "outputs": [
    {
     "data": {
      "text/html": [
       "<div>\n",
       "<style scoped>\n",
       "    .dataframe tbody tr th:only-of-type {\n",
       "        vertical-align: middle;\n",
       "    }\n",
       "\n",
       "    .dataframe tbody tr th {\n",
       "        vertical-align: top;\n",
       "    }\n",
       "\n",
       "    .dataframe thead th {\n",
       "        text-align: right;\n",
       "    }\n",
       "</style>\n",
       "<table border=\"1\" class=\"dataframe\">\n",
       "  <thead>\n",
       "    <tr style=\"text-align: right;\">\n",
       "      <th></th>\n",
       "      <th>id</th>\n",
       "      <th>release_date</th>\n",
       "      <th>movie</th>\n",
       "      <th>production_budget</th>\n",
       "      <th>domestic_gross</th>\n",
       "      <th>worldwide_gross</th>\n",
       "    </tr>\n",
       "  </thead>\n",
       "  <tbody>\n",
       "    <tr>\n",
       "      <th>5777</th>\n",
       "      <td>78</td>\n",
       "      <td>Dec 31, 2018</td>\n",
       "      <td>Red 11</td>\n",
       "      <td>$7,000</td>\n",
       "      <td>$0</td>\n",
       "      <td>$0</td>\n",
       "    </tr>\n",
       "    <tr>\n",
       "      <th>5778</th>\n",
       "      <td>79</td>\n",
       "      <td>Apr 2, 1999</td>\n",
       "      <td>Following</td>\n",
       "      <td>$6,000</td>\n",
       "      <td>$48,482</td>\n",
       "      <td>$240,495</td>\n",
       "    </tr>\n",
       "    <tr>\n",
       "      <th>5779</th>\n",
       "      <td>80</td>\n",
       "      <td>Jul 13, 2005</td>\n",
       "      <td>Return to the Land of Wonders</td>\n",
       "      <td>$5,000</td>\n",
       "      <td>$1,338</td>\n",
       "      <td>$1,338</td>\n",
       "    </tr>\n",
       "    <tr>\n",
       "      <th>5780</th>\n",
       "      <td>81</td>\n",
       "      <td>Sep 29, 2015</td>\n",
       "      <td>A Plague So Pleasant</td>\n",
       "      <td>$1,400</td>\n",
       "      <td>$0</td>\n",
       "      <td>$0</td>\n",
       "    </tr>\n",
       "    <tr>\n",
       "      <th>5781</th>\n",
       "      <td>82</td>\n",
       "      <td>Aug 5, 2005</td>\n",
       "      <td>My Date With Drew</td>\n",
       "      <td>$1,100</td>\n",
       "      <td>$181,041</td>\n",
       "      <td>$181,041</td>\n",
       "    </tr>\n",
       "  </tbody>\n",
       "</table>\n",
       "</div>"
      ],
      "text/plain": [
       "      id  release_date                          movie production_budget  \\\n",
       "5777  78  Dec 31, 2018                         Red 11            $7,000   \n",
       "5778  79   Apr 2, 1999                      Following            $6,000   \n",
       "5779  80  Jul 13, 2005  Return to the Land of Wonders            $5,000   \n",
       "5780  81  Sep 29, 2015           A Plague So Pleasant            $1,400   \n",
       "5781  82   Aug 5, 2005              My Date With Drew            $1,100   \n",
       "\n",
       "     domestic_gross worldwide_gross  \n",
       "5777             $0              $0  \n",
       "5778        $48,482        $240,495  \n",
       "5779         $1,338          $1,338  \n",
       "5780             $0              $0  \n",
       "5781       $181,041        $181,041  "
      ]
     },
     "execution_count": 161,
     "metadata": {},
     "output_type": "execute_result"
    }
   ],
   "source": [
    "#Views the bottom 5 rows\n",
    "df1.tail()"
   ]
  },
  {
   "cell_type": "code",
   "execution_count": 162,
   "id": "df293010-5f8e-4a38-9f7e-b2c407f04dff",
   "metadata": {},
   "outputs": [
    {
     "name": "stdout",
     "output_type": "stream",
     "text": [
      "<class 'pandas.core.frame.DataFrame'>\n",
      "RangeIndex: 5782 entries, 0 to 5781\n",
      "Data columns (total 6 columns):\n",
      " #   Column             Non-Null Count  Dtype \n",
      "---  ------             --------------  ----- \n",
      " 0   id                 5782 non-null   int64 \n",
      " 1   release_date       5782 non-null   object\n",
      " 2   movie              5782 non-null   object\n",
      " 3   production_budget  5782 non-null   object\n",
      " 4   domestic_gross     5782 non-null   object\n",
      " 5   worldwide_gross    5782 non-null   object\n",
      "dtypes: int64(1), object(5)\n",
      "memory usage: 271.2+ KB\n"
     ]
    }
   ],
   "source": [
    "#Structure of the dataset\n",
    "df1.info()"
   ]
  },
  {
   "cell_type": "code",
   "execution_count": 163,
   "id": "0c9174f8-2e49-451a-b1b2-03c306a2fced",
   "metadata": {},
   "outputs": [
    {
     "data": {
      "text/html": [
       "<div>\n",
       "<style scoped>\n",
       "    .dataframe tbody tr th:only-of-type {\n",
       "        vertical-align: middle;\n",
       "    }\n",
       "\n",
       "    .dataframe tbody tr th {\n",
       "        vertical-align: top;\n",
       "    }\n",
       "\n",
       "    .dataframe thead th {\n",
       "        text-align: right;\n",
       "    }\n",
       "</style>\n",
       "<table border=\"1\" class=\"dataframe\">\n",
       "  <thead>\n",
       "    <tr style=\"text-align: right;\">\n",
       "      <th></th>\n",
       "      <th>id</th>\n",
       "    </tr>\n",
       "  </thead>\n",
       "  <tbody>\n",
       "    <tr>\n",
       "      <th>count</th>\n",
       "      <td>5782.000000</td>\n",
       "    </tr>\n",
       "    <tr>\n",
       "      <th>mean</th>\n",
       "      <td>50.372363</td>\n",
       "    </tr>\n",
       "    <tr>\n",
       "      <th>std</th>\n",
       "      <td>28.821076</td>\n",
       "    </tr>\n",
       "    <tr>\n",
       "      <th>min</th>\n",
       "      <td>1.000000</td>\n",
       "    </tr>\n",
       "    <tr>\n",
       "      <th>25%</th>\n",
       "      <td>25.000000</td>\n",
       "    </tr>\n",
       "    <tr>\n",
       "      <th>50%</th>\n",
       "      <td>50.000000</td>\n",
       "    </tr>\n",
       "    <tr>\n",
       "      <th>75%</th>\n",
       "      <td>75.000000</td>\n",
       "    </tr>\n",
       "    <tr>\n",
       "      <th>max</th>\n",
       "      <td>100.000000</td>\n",
       "    </tr>\n",
       "  </tbody>\n",
       "</table>\n",
       "</div>"
      ],
      "text/plain": [
       "                id\n",
       "count  5782.000000\n",
       "mean     50.372363\n",
       "std      28.821076\n",
       "min       1.000000\n",
       "25%      25.000000\n",
       "50%      50.000000\n",
       "75%      75.000000\n",
       "max     100.000000"
      ]
     },
     "execution_count": 163,
     "metadata": {},
     "output_type": "execute_result"
    }
   ],
   "source": [
    "#Stasticical summary of numeric columns\n",
    "df1.describe()"
   ]
  },
  {
   "cell_type": "code",
   "execution_count": 164,
   "id": "f9e85129-9a3a-4a72-b4d1-67abcafb3664",
   "metadata": {},
   "outputs": [
    {
     "data": {
      "text/plain": [
       "Index(['id', 'release_date', 'movie', 'production_budget', 'domestic_gross',\n",
       "       'worldwide_gross'],\n",
       "      dtype='object')"
      ]
     },
     "execution_count": 164,
     "metadata": {},
     "output_type": "execute_result"
    }
   ],
   "source": [
    "#Names of columns\n",
    "df1.columns"
   ]
  },
  {
   "cell_type": "code",
   "execution_count": 165,
   "id": "b712337d-42a2-48bf-a04c-4341180598df",
   "metadata": {},
   "outputs": [
    {
     "data": {
      "text/plain": [
       "(5782, 6)"
      ]
     },
     "execution_count": 165,
     "metadata": {},
     "output_type": "execute_result"
    }
   ],
   "source": [
    "#Shape of dataset\n",
    "df1.shape"
   ]
  },
  {
   "cell_type": "markdown",
   "id": "40c14e71-babb-4f3a-b5c0-a64078de2c4a",
   "metadata": {},
   "source": [
    "# **Data Preparation**\n",
    "- Handling missing values\n",
    "\n",
    "- Changing data types\n",
    "\n",
    "- Renaming columns\n"
   ]
  },
  {
   "cell_type": "markdown",
   "id": "d9e80ce3-5dfa-4369-9ef2-8e812161bd74",
   "metadata": {},
   "source": [
    "### **Data Cleaning**"
   ]
  },
  {
   "cell_type": "code",
   "execution_count": 167,
   "id": "f0d526c2-0bd6-4d2b-8508-b03e777d5169",
   "metadata": {},
   "outputs": [
    {
     "data": {
      "text/html": [
       "<div>\n",
       "<style scoped>\n",
       "    .dataframe tbody tr th:only-of-type {\n",
       "        vertical-align: middle;\n",
       "    }\n",
       "\n",
       "    .dataframe tbody tr th {\n",
       "        vertical-align: top;\n",
       "    }\n",
       "\n",
       "    .dataframe thead th {\n",
       "        text-align: right;\n",
       "    }\n",
       "</style>\n",
       "<table border=\"1\" class=\"dataframe\">\n",
       "  <thead>\n",
       "    <tr style=\"text-align: right;\">\n",
       "      <th></th>\n",
       "      <th>id</th>\n",
       "      <th>release_date</th>\n",
       "      <th>movie</th>\n",
       "      <th>production_budget</th>\n",
       "      <th>domestic_gross</th>\n",
       "      <th>worldwide_gross</th>\n",
       "    </tr>\n",
       "  </thead>\n",
       "  <tbody>\n",
       "    <tr>\n",
       "      <th>0</th>\n",
       "      <td>False</td>\n",
       "      <td>False</td>\n",
       "      <td>False</td>\n",
       "      <td>False</td>\n",
       "      <td>False</td>\n",
       "      <td>False</td>\n",
       "    </tr>\n",
       "    <tr>\n",
       "      <th>1</th>\n",
       "      <td>False</td>\n",
       "      <td>False</td>\n",
       "      <td>False</td>\n",
       "      <td>False</td>\n",
       "      <td>False</td>\n",
       "      <td>False</td>\n",
       "    </tr>\n",
       "    <tr>\n",
       "      <th>2</th>\n",
       "      <td>False</td>\n",
       "      <td>False</td>\n",
       "      <td>False</td>\n",
       "      <td>False</td>\n",
       "      <td>False</td>\n",
       "      <td>False</td>\n",
       "    </tr>\n",
       "    <tr>\n",
       "      <th>3</th>\n",
       "      <td>False</td>\n",
       "      <td>False</td>\n",
       "      <td>False</td>\n",
       "      <td>False</td>\n",
       "      <td>False</td>\n",
       "      <td>False</td>\n",
       "    </tr>\n",
       "    <tr>\n",
       "      <th>4</th>\n",
       "      <td>False</td>\n",
       "      <td>False</td>\n",
       "      <td>False</td>\n",
       "      <td>False</td>\n",
       "      <td>False</td>\n",
       "      <td>False</td>\n",
       "    </tr>\n",
       "    <tr>\n",
       "      <th>...</th>\n",
       "      <td>...</td>\n",
       "      <td>...</td>\n",
       "      <td>...</td>\n",
       "      <td>...</td>\n",
       "      <td>...</td>\n",
       "      <td>...</td>\n",
       "    </tr>\n",
       "    <tr>\n",
       "      <th>5777</th>\n",
       "      <td>False</td>\n",
       "      <td>False</td>\n",
       "      <td>False</td>\n",
       "      <td>False</td>\n",
       "      <td>False</td>\n",
       "      <td>False</td>\n",
       "    </tr>\n",
       "    <tr>\n",
       "      <th>5778</th>\n",
       "      <td>False</td>\n",
       "      <td>False</td>\n",
       "      <td>False</td>\n",
       "      <td>False</td>\n",
       "      <td>False</td>\n",
       "      <td>False</td>\n",
       "    </tr>\n",
       "    <tr>\n",
       "      <th>5779</th>\n",
       "      <td>False</td>\n",
       "      <td>False</td>\n",
       "      <td>False</td>\n",
       "      <td>False</td>\n",
       "      <td>False</td>\n",
       "      <td>False</td>\n",
       "    </tr>\n",
       "    <tr>\n",
       "      <th>5780</th>\n",
       "      <td>False</td>\n",
       "      <td>False</td>\n",
       "      <td>False</td>\n",
       "      <td>False</td>\n",
       "      <td>False</td>\n",
       "      <td>False</td>\n",
       "    </tr>\n",
       "    <tr>\n",
       "      <th>5781</th>\n",
       "      <td>False</td>\n",
       "      <td>False</td>\n",
       "      <td>False</td>\n",
       "      <td>False</td>\n",
       "      <td>False</td>\n",
       "      <td>False</td>\n",
       "    </tr>\n",
       "  </tbody>\n",
       "</table>\n",
       "<p>5782 rows × 6 columns</p>\n",
       "</div>"
      ],
      "text/plain": [
       "         id  release_date  movie  production_budget  domestic_gross  \\\n",
       "0     False         False  False              False           False   \n",
       "1     False         False  False              False           False   \n",
       "2     False         False  False              False           False   \n",
       "3     False         False  False              False           False   \n",
       "4     False         False  False              False           False   \n",
       "...     ...           ...    ...                ...             ...   \n",
       "5777  False         False  False              False           False   \n",
       "5778  False         False  False              False           False   \n",
       "5779  False         False  False              False           False   \n",
       "5780  False         False  False              False           False   \n",
       "5781  False         False  False              False           False   \n",
       "\n",
       "      worldwide_gross  \n",
       "0               False  \n",
       "1               False  \n",
       "2               False  \n",
       "3               False  \n",
       "4               False  \n",
       "...               ...  \n",
       "5777            False  \n",
       "5778            False  \n",
       "5779            False  \n",
       "5780            False  \n",
       "5781            False  \n",
       "\n",
       "[5782 rows x 6 columns]"
      ]
     },
     "execution_count": 167,
     "metadata": {},
     "output_type": "execute_result"
    }
   ],
   "source": [
    "#Check missing values\n",
    "df1.isnull()"
   ]
  },
  {
   "cell_type": "code",
   "execution_count": 168,
   "id": "4b9185f7-caea-4d07-9499-b526ec74dc64",
   "metadata": {},
   "outputs": [],
   "source": [
    "#fill missing values\n",
    "df1.fillna(0,inplace=True)"
   ]
  },
  {
   "cell_type": "code",
   "execution_count": 169,
   "id": "98662062-3c1f-4235-b6a7-210a15328d1a",
   "metadata": {},
   "outputs": [
    {
     "data": {
      "text/plain": [
       "id                    int64\n",
       "release_date         object\n",
       "movie                object\n",
       "production_budget    object\n",
       "domestic_gross       object\n",
       "worldwide_gross      object\n",
       "dtype: object"
      ]
     },
     "execution_count": 169,
     "metadata": {},
     "output_type": "execute_result"
    }
   ],
   "source": [
    "#Check data type\n",
    "df1.dtypes"
   ]
  },
  {
   "cell_type": "code",
   "execution_count": 170,
   "id": "8e712bd0-05f8-4059-9b30-833e0046f1b5",
   "metadata": {},
   "outputs": [],
   "source": [
    "#Converting to a real date\n",
    "df1['release_date']=pd.to_datetime(df1['release_date'])"
   ]
  },
  {
   "cell_type": "code",
   "execution_count": 171,
   "id": "1378f305-f687-4216-820d-15a3fab30f9d",
   "metadata": {},
   "outputs": [
    {
     "data": {
      "text/plain": [
       "dtype('<M8[ns]')"
      ]
     },
     "execution_count": 171,
     "metadata": {},
     "output_type": "execute_result"
    }
   ],
   "source": [
    "df1['release_date'].dtype"
   ]
  },
  {
   "cell_type": "code",
   "execution_count": 172,
   "id": "2a6b05c5-c7bb-4dc4-a953-654dbfa1d4d6",
   "metadata": {},
   "outputs": [
    {
     "data": {
      "text/plain": [
       "0       False\n",
       "1       False\n",
       "2       False\n",
       "3       False\n",
       "4       False\n",
       "        ...  \n",
       "5777    False\n",
       "5778    False\n",
       "5779    False\n",
       "5780    False\n",
       "5781    False\n",
       "Length: 5782, dtype: bool"
      ]
     },
     "execution_count": 172,
     "metadata": {},
     "output_type": "execute_result"
    }
   ],
   "source": [
    "#Checking for duplicates\n",
    "df1.duplicated()"
   ]
  },
  {
   "cell_type": "code",
   "execution_count": 173,
   "id": "82589d47-72d7-460e-9bca-470277583ccc",
   "metadata": {},
   "outputs": [],
   "source": [
    "#Remove duplicates\n",
    "df1.drop_duplicates(inplace=True)"
   ]
  },
  {
   "cell_type": "code",
   "execution_count": 174,
   "id": "19c9adf4-1dc9-48f5-9604-1d8c49e366b3",
   "metadata": {},
   "outputs": [],
   "source": [
    "#Clean names\n",
    "df1.columns=df1.columns.str.strip().str.lower().str.replace('', '_') \n",
    "df1.columns = df1.columns.str.replace('_', '', regex=False)\n",
    "\n"
   ]
  },
  {
   "cell_type": "code",
   "execution_count": 175,
   "id": "1933dd42-83e8-4f03-a83c-68d0285ea387",
   "metadata": {},
   "outputs": [],
   "source": [
    "#Save the cleaned dataset\n",
    "df1.to_csv('tn.csv', index=False)"
   ]
  },
  {
   "cell_type": "markdown",
   "id": "f6ecaf5e-c75b-42c7-9ba3-114ae84a1ad4",
   "metadata": {},
   "source": [
    "## **Second DataFrame**"
   ]
  },
  {
   "cell_type": "code",
   "execution_count": 176,
   "id": "7b160583-065b-4cf7-998f-bbc1b67e98e5",
   "metadata": {},
   "outputs": [],
   "source": [
    "#Load the dataset\n",
    "df2=pd.read_csv('tmdb.movies.csv')"
   ]
  },
  {
   "cell_type": "markdown",
   "id": "c46fd77b-95e8-4c5a-a251-b0f5cc9dca77",
   "metadata": {},
   "source": [
    "# **Data Understanding**\n",
    "- Shape, column names\n",
    "- Missing values\n",
    "- Sample rows\n",
    "- Basic statistics"
   ]
  },
  {
   "cell_type": "markdown",
   "id": "10fd1c47-9a23-4ea8-822c-a1c1423372ba",
   "metadata": {},
   "source": [
    "### **Explore the Dataset**\r\n"
   ]
  },
  {
   "cell_type": "code",
   "execution_count": 177,
   "id": "38775d2f-a4eb-427c-af56-5a4c5e26aeb3",
   "metadata": {},
   "outputs": [
    {
     "data": {
      "text/html": [
       "<div>\n",
       "<style scoped>\n",
       "    .dataframe tbody tr th:only-of-type {\n",
       "        vertical-align: middle;\n",
       "    }\n",
       "\n",
       "    .dataframe tbody tr th {\n",
       "        vertical-align: top;\n",
       "    }\n",
       "\n",
       "    .dataframe thead th {\n",
       "        text-align: right;\n",
       "    }\n",
       "</style>\n",
       "<table border=\"1\" class=\"dataframe\">\n",
       "  <thead>\n",
       "    <tr style=\"text-align: right;\">\n",
       "      <th></th>\n",
       "      <th>Unnamed: 0</th>\n",
       "      <th>genre_ids</th>\n",
       "      <th>id</th>\n",
       "      <th>original_language</th>\n",
       "      <th>original_title</th>\n",
       "      <th>popularity</th>\n",
       "      <th>release_date</th>\n",
       "      <th>title</th>\n",
       "      <th>vote_average</th>\n",
       "      <th>vote_count</th>\n",
       "    </tr>\n",
       "  </thead>\n",
       "  <tbody>\n",
       "    <tr>\n",
       "      <th>0</th>\n",
       "      <td>0</td>\n",
       "      <td>[12, 14, 10751]</td>\n",
       "      <td>12444</td>\n",
       "      <td>en</td>\n",
       "      <td>Harry Potter and the Deathly Hallows: Part 1</td>\n",
       "      <td>33.533</td>\n",
       "      <td>2010-11-19</td>\n",
       "      <td>Harry Potter and the Deathly Hallows: Part 1</td>\n",
       "      <td>7.7</td>\n",
       "      <td>10788</td>\n",
       "    </tr>\n",
       "    <tr>\n",
       "      <th>1</th>\n",
       "      <td>1</td>\n",
       "      <td>[14, 12, 16, 10751]</td>\n",
       "      <td>10191</td>\n",
       "      <td>en</td>\n",
       "      <td>How to Train Your Dragon</td>\n",
       "      <td>28.734</td>\n",
       "      <td>2010-03-26</td>\n",
       "      <td>How to Train Your Dragon</td>\n",
       "      <td>7.7</td>\n",
       "      <td>7610</td>\n",
       "    </tr>\n",
       "    <tr>\n",
       "      <th>2</th>\n",
       "      <td>2</td>\n",
       "      <td>[12, 28, 878]</td>\n",
       "      <td>10138</td>\n",
       "      <td>en</td>\n",
       "      <td>Iron Man 2</td>\n",
       "      <td>28.515</td>\n",
       "      <td>2010-05-07</td>\n",
       "      <td>Iron Man 2</td>\n",
       "      <td>6.8</td>\n",
       "      <td>12368</td>\n",
       "    </tr>\n",
       "    <tr>\n",
       "      <th>3</th>\n",
       "      <td>3</td>\n",
       "      <td>[16, 35, 10751]</td>\n",
       "      <td>862</td>\n",
       "      <td>en</td>\n",
       "      <td>Toy Story</td>\n",
       "      <td>28.005</td>\n",
       "      <td>1995-11-22</td>\n",
       "      <td>Toy Story</td>\n",
       "      <td>7.9</td>\n",
       "      <td>10174</td>\n",
       "    </tr>\n",
       "    <tr>\n",
       "      <th>4</th>\n",
       "      <td>4</td>\n",
       "      <td>[28, 878, 12]</td>\n",
       "      <td>27205</td>\n",
       "      <td>en</td>\n",
       "      <td>Inception</td>\n",
       "      <td>27.920</td>\n",
       "      <td>2010-07-16</td>\n",
       "      <td>Inception</td>\n",
       "      <td>8.3</td>\n",
       "      <td>22186</td>\n",
       "    </tr>\n",
       "  </tbody>\n",
       "</table>\n",
       "</div>"
      ],
      "text/plain": [
       "   Unnamed: 0            genre_ids     id original_language  \\\n",
       "0           0      [12, 14, 10751]  12444                en   \n",
       "1           1  [14, 12, 16, 10751]  10191                en   \n",
       "2           2        [12, 28, 878]  10138                en   \n",
       "3           3      [16, 35, 10751]    862                en   \n",
       "4           4        [28, 878, 12]  27205                en   \n",
       "\n",
       "                                 original_title  popularity release_date  \\\n",
       "0  Harry Potter and the Deathly Hallows: Part 1      33.533   2010-11-19   \n",
       "1                      How to Train Your Dragon      28.734   2010-03-26   \n",
       "2                                    Iron Man 2      28.515   2010-05-07   \n",
       "3                                     Toy Story      28.005   1995-11-22   \n",
       "4                                     Inception      27.920   2010-07-16   \n",
       "\n",
       "                                          title  vote_average  vote_count  \n",
       "0  Harry Potter and the Deathly Hallows: Part 1           7.7       10788  \n",
       "1                      How to Train Your Dragon           7.7        7610  \n",
       "2                                    Iron Man 2           6.8       12368  \n",
       "3                                     Toy Story           7.9       10174  \n",
       "4                                     Inception           8.3       22186  "
      ]
     },
     "execution_count": 177,
     "metadata": {},
     "output_type": "execute_result"
    }
   ],
   "source": [
    "#View top 5 rows\n",
    "df2.head()"
   ]
  },
  {
   "cell_type": "code",
   "execution_count": 178,
   "id": "190b5260-6f91-4626-a9fc-8071d4726cb1",
   "metadata": {},
   "outputs": [
    {
     "data": {
      "text/html": [
       "<div>\n",
       "<style scoped>\n",
       "    .dataframe tbody tr th:only-of-type {\n",
       "        vertical-align: middle;\n",
       "    }\n",
       "\n",
       "    .dataframe tbody tr th {\n",
       "        vertical-align: top;\n",
       "    }\n",
       "\n",
       "    .dataframe thead th {\n",
       "        text-align: right;\n",
       "    }\n",
       "</style>\n",
       "<table border=\"1\" class=\"dataframe\">\n",
       "  <thead>\n",
       "    <tr style=\"text-align: right;\">\n",
       "      <th></th>\n",
       "      <th>Unnamed: 0</th>\n",
       "      <th>genre_ids</th>\n",
       "      <th>id</th>\n",
       "      <th>original_language</th>\n",
       "      <th>original_title</th>\n",
       "      <th>popularity</th>\n",
       "      <th>release_date</th>\n",
       "      <th>title</th>\n",
       "      <th>vote_average</th>\n",
       "      <th>vote_count</th>\n",
       "    </tr>\n",
       "  </thead>\n",
       "  <tbody>\n",
       "    <tr>\n",
       "      <th>26512</th>\n",
       "      <td>26512</td>\n",
       "      <td>[27, 18]</td>\n",
       "      <td>488143</td>\n",
       "      <td>en</td>\n",
       "      <td>Laboratory Conditions</td>\n",
       "      <td>0.6</td>\n",
       "      <td>2018-10-13</td>\n",
       "      <td>Laboratory Conditions</td>\n",
       "      <td>0.0</td>\n",
       "      <td>1</td>\n",
       "    </tr>\n",
       "    <tr>\n",
       "      <th>26513</th>\n",
       "      <td>26513</td>\n",
       "      <td>[18, 53]</td>\n",
       "      <td>485975</td>\n",
       "      <td>en</td>\n",
       "      <td>_EXHIBIT_84xxx_</td>\n",
       "      <td>0.6</td>\n",
       "      <td>2018-05-01</td>\n",
       "      <td>_EXHIBIT_84xxx_</td>\n",
       "      <td>0.0</td>\n",
       "      <td>1</td>\n",
       "    </tr>\n",
       "    <tr>\n",
       "      <th>26514</th>\n",
       "      <td>26514</td>\n",
       "      <td>[14, 28, 12]</td>\n",
       "      <td>381231</td>\n",
       "      <td>en</td>\n",
       "      <td>The Last One</td>\n",
       "      <td>0.6</td>\n",
       "      <td>2018-10-01</td>\n",
       "      <td>The Last One</td>\n",
       "      <td>0.0</td>\n",
       "      <td>1</td>\n",
       "    </tr>\n",
       "    <tr>\n",
       "      <th>26515</th>\n",
       "      <td>26515</td>\n",
       "      <td>[10751, 12, 28]</td>\n",
       "      <td>366854</td>\n",
       "      <td>en</td>\n",
       "      <td>Trailer Made</td>\n",
       "      <td>0.6</td>\n",
       "      <td>2018-06-22</td>\n",
       "      <td>Trailer Made</td>\n",
       "      <td>0.0</td>\n",
       "      <td>1</td>\n",
       "    </tr>\n",
       "    <tr>\n",
       "      <th>26516</th>\n",
       "      <td>26516</td>\n",
       "      <td>[53, 27]</td>\n",
       "      <td>309885</td>\n",
       "      <td>en</td>\n",
       "      <td>The Church</td>\n",
       "      <td>0.6</td>\n",
       "      <td>2018-10-05</td>\n",
       "      <td>The Church</td>\n",
       "      <td>0.0</td>\n",
       "      <td>1</td>\n",
       "    </tr>\n",
       "  </tbody>\n",
       "</table>\n",
       "</div>"
      ],
      "text/plain": [
       "       Unnamed: 0        genre_ids      id original_language  \\\n",
       "26512       26512         [27, 18]  488143                en   \n",
       "26513       26513         [18, 53]  485975                en   \n",
       "26514       26514     [14, 28, 12]  381231                en   \n",
       "26515       26515  [10751, 12, 28]  366854                en   \n",
       "26516       26516         [53, 27]  309885                en   \n",
       "\n",
       "              original_title  popularity release_date                  title  \\\n",
       "26512  Laboratory Conditions         0.6   2018-10-13  Laboratory Conditions   \n",
       "26513        _EXHIBIT_84xxx_         0.6   2018-05-01        _EXHIBIT_84xxx_   \n",
       "26514           The Last One         0.6   2018-10-01           The Last One   \n",
       "26515           Trailer Made         0.6   2018-06-22           Trailer Made   \n",
       "26516             The Church         0.6   2018-10-05             The Church   \n",
       "\n",
       "       vote_average  vote_count  \n",
       "26512           0.0           1  \n",
       "26513           0.0           1  \n",
       "26514           0.0           1  \n",
       "26515           0.0           1  \n",
       "26516           0.0           1  "
      ]
     },
     "execution_count": 178,
     "metadata": {},
     "output_type": "execute_result"
    }
   ],
   "source": [
    "#View botttom 5 rows\n",
    "df2.tail()\n"
   ]
  },
  {
   "cell_type": "code",
   "execution_count": 179,
   "id": "540b5921-12b6-417f-9211-cff7ed82919f",
   "metadata": {},
   "outputs": [
    {
     "name": "stdout",
     "output_type": "stream",
     "text": [
      "<class 'pandas.core.frame.DataFrame'>\n",
      "RangeIndex: 26517 entries, 0 to 26516\n",
      "Data columns (total 10 columns):\n",
      " #   Column             Non-Null Count  Dtype  \n",
      "---  ------             --------------  -----  \n",
      " 0   Unnamed: 0         26517 non-null  int64  \n",
      " 1   genre_ids          26517 non-null  object \n",
      " 2   id                 26517 non-null  int64  \n",
      " 3   original_language  26517 non-null  object \n",
      " 4   original_title     26517 non-null  object \n",
      " 5   popularity         26517 non-null  float64\n",
      " 6   release_date       26517 non-null  object \n",
      " 7   title              26517 non-null  object \n",
      " 8   vote_average       26517 non-null  float64\n",
      " 9   vote_count         26517 non-null  int64  \n",
      "dtypes: float64(2), int64(3), object(5)\n",
      "memory usage: 2.0+ MB\n"
     ]
    }
   ],
   "source": [
    "#Structure of the dataset\n",
    "df2.info()"
   ]
  },
  {
   "cell_type": "code",
   "execution_count": null,
   "id": "4bcd1500-2df8-4f59-b492-fd4de00fa3cf",
   "metadata": {},
   "outputs": [],
   "source": [
    "#Stasticical summary of numeric columns\n",
    "df2.describe()"
   ]
  },
  {
   "cell_type": "code",
   "execution_count": 181,
   "id": "1df5ac9d-6e41-4193-9530-5b31edd62001",
   "metadata": {},
   "outputs": [
    {
     "data": {
      "text/plain": [
       "Index(['Unnamed: 0', 'genre_ids', 'id', 'original_language', 'original_title',\n",
       "       'popularity', 'release_date', 'title', 'vote_average', 'vote_count'],\n",
       "      dtype='object')"
      ]
     },
     "execution_count": 181,
     "metadata": {},
     "output_type": "execute_result"
    }
   ],
   "source": [
    "#Names of columns\n",
    "df2.columns"
   ]
  },
  {
   "cell_type": "code",
   "execution_count": null,
   "id": "31254058-0f18-468a-9879-4388848421b5",
   "metadata": {},
   "outputs": [],
   "source": [
    "#Shape of dataset\n",
    "df2.shape"
   ]
  },
  {
   "cell_type": "markdown",
   "id": "c106de3d-01e8-4e06-9ccd-e1a1a998a8ef",
   "metadata": {},
   "source": [
    "# **Data Preparation**\n",
    "- Handling missing values\n",
    "\n",
    "- Changing data types\n",
    "\n",
    "- Renaming columns\n",
    "- concatenate `tn` and `tmdb`"
   ]
  },
  {
   "cell_type": "markdown",
   "id": "61027ec9-2d5e-4985-bdbc-739f42ff93c7",
   "metadata": {},
   "source": [
    "### **Data Cleaning**"
   ]
  },
  {
   "cell_type": "code",
   "execution_count": null,
   "id": "565dd2b5-f3e6-4145-a10d-6ea7705d57e5",
   "metadata": {},
   "outputs": [],
   "source": [
    "#Check missing values\n",
    "df2.isnull().sum()"
   ]
  },
  {
   "cell_type": "code",
   "execution_count": null,
   "id": "56d912a3-75fb-4417-bcce-21b61c2ae316",
   "metadata": {},
   "outputs": [],
   "source": [
    "#Check data type\n",
    "df2.dtypes"
   ]
  },
  {
   "cell_type": "code",
   "execution_count": null,
   "id": "df41f885-eb3a-4fcd-9815-14b41a087da0",
   "metadata": {},
   "outputs": [],
   "source": [
    "#Converting to a real date\n",
    "df2['release_date']=pd.to_datetime(df2['release_date'])"
   ]
  },
  {
   "cell_type": "code",
   "execution_count": null,
   "id": "b5c04a84-d8c9-49ea-957f-b601d8ed161d",
   "metadata": {},
   "outputs": [],
   "source": [
    "#Checking for duplicates\n",
    "df2.duplicated()"
   ]
  },
  {
   "cell_type": "code",
   "execution_count": null,
   "id": "b06a7fe3-f5a9-474e-9a29-8f3ceec427c6",
   "metadata": {},
   "outputs": [],
   "source": [
    "#Remove duplicates\n",
    "df2.drop_duplicates(inplace=True)"
   ]
  },
  {
   "cell_type": "code",
   "execution_count": null,
   "id": "6a06b2cc-a587-481d-9de2-42f8b00a0148",
   "metadata": {},
   "outputs": [],
   "source": [
    "#Clean names\n",
    "df2.columns=df2.columns.str.strip().str.lower().str.replace('', '_')\n",
    "df2.columns = df2.columns.str.replace('_', '', regex=False)\n"
   ]
  },
  {
   "cell_type": "code",
   "execution_count": null,
   "id": "425fbb88-9fd9-4c26-8575-100c3299f8d0",
   "metadata": {},
   "outputs": [],
   "source": [
    "#Save the cleaned dataset\n",
    "df2.to_csv('tmdb.csv', index=False)\n"
   ]
  },
  {
   "cell_type": "markdown",
   "id": "f3819d84-7431-45f2-bc20-254484fefbb1",
   "metadata": {},
   "source": [
    "## **Combined DataFrame**"
   ]
  },
  {
   "cell_type": "code",
   "execution_count": null,
   "id": "de8db528-df52-45ad-ae34-c93bc0014466",
   "metadata": {},
   "outputs": [],
   "source": [
    "#Load both datasets\n",
    "tn = pd.read_csv('tn.csv')\n",
    "tmdb = pd.read_csv('tmdb.csv')"
   ]
  },
  {
   "cell_type": "code",
   "execution_count": null,
   "id": "84e02396-58e1-4b98-a4df-06d4af2b18ab",
   "metadata": {},
   "outputs": [],
   "source": [
    "#Combining datasets\n",
    "to_concat = [tn, tmdb]\n",
    "df3 = pd.concat(to_concat, ignore_index=True)\n",
    "df3.to_csv(\"combined_movies.csv\", index=False)\n"
   ]
  },
  {
   "cell_type": "markdown",
   "id": "2aa0ede3-746f-4ff4-8f9c-0368d4b91bf6",
   "metadata": {},
   "source": [
    "### **Data Cleaning**"
   ]
  },
  {
   "cell_type": "code",
   "execution_count": null,
   "id": "37d20a79-3359-4edb-8c27-ef99934ba1d6",
   "metadata": {},
   "outputs": [],
   "source": [
    "df3.info()"
   ]
  },
  {
   "cell_type": "code",
   "execution_count": null,
   "id": "28701b2a-219d-49e4-8ac9-37ae552c964f",
   "metadata": {},
   "outputs": [],
   "source": [
    "#clean names\n",
    "df3.columns=df3.columns.str.strip().str.lower().str.replace('', '_')\n",
    "df3.columns = df3.columns.str.replace('_', '', regex=False)\n"
   ]
  },
  {
   "cell_type": "code",
   "execution_count": null,
   "id": "46d38d83-19c8-407a-880a-730f51473121",
   "metadata": {},
   "outputs": [],
   "source": [
    "#check missing values\n",
    "df3.isnull()"
   ]
  },
  {
   "cell_type": "code",
   "execution_count": null,
   "id": "530bac2a-2bbd-4971-8efb-94046a100686",
   "metadata": {},
   "outputs": [],
   "source": [
    "# Percentage of missing values\n",
    "df3.isnull().mean() * 100\n"
   ]
  },
  {
   "cell_type": "code",
   "execution_count": null,
   "id": "0e3af055-6e7c-48a4-95c3-8caa380bc3e9",
   "metadata": {},
   "outputs": [],
   "source": [
    "#check missing values\n",
    "df3.isnull()"
   ]
  },
  {
   "cell_type": "code",
   "execution_count": null,
   "id": "72632d71-a42d-4f9e-99fb-cb53f4173c44",
   "metadata": {},
   "outputs": [],
   "source": [
    "#Fill missing values\n",
    "df3.fillna(0, inplace=True)  # for text columns\n",
    "df3.isnull()"
   ]
  },
  {
   "cell_type": "code",
   "execution_count": null,
   "id": "b36b39e8-5c9f-417c-9401-0fb37f4bf064",
   "metadata": {},
   "outputs": [],
   "source": [
    "df3.isnull()"
   ]
  },
  {
   "cell_type": "code",
   "execution_count": null,
   "id": "02af7ac4-b02b-470e-ba87-90b4604d7b02",
   "metadata": {},
   "outputs": [],
   "source": [
    "#check duplicates\n",
    "df3.duplicated"
   ]
  },
  {
   "cell_type": "code",
   "execution_count": null,
   "id": "e7d4f356-bfcf-49fe-9236-89d6a2004bbb",
   "metadata": {},
   "outputs": [],
   "source": [
    "#remove duplicates\n",
    "df3.drop_duplicates(inplace=True)\n",
    "df3.duplicated"
   ]
  },
  {
   "cell_type": "code",
   "execution_count": null,
   "id": "0ef686de-2c76-45a3-a26b-36bc91a5860e",
   "metadata": {},
   "outputs": [],
   "source": [
    "# Drop unnamed index columns or redundant metadata\n",
    "df3.drop(columns=[col for col in df3.columns if 'unnamed' in col], inplace=True)\n"
   ]
  },
  {
   "cell_type": "code",
   "execution_count": null,
   "id": "72b28f3b-c512-4ad4-a314-7e3e04a8cd07",
   "metadata": {},
   "outputs": [],
   "source": [
    "df3.head()"
   ]
  },
  {
   "cell_type": "code",
   "execution_count": null,
   "id": "b68fd6a9-1ee2-4a3b-a4b3-81c1833e4595",
   "metadata": {},
   "outputs": [],
   "source": [
    "df3.tail()"
   ]
  },
  {
   "cell_type": "code",
   "execution_count": null,
   "id": "fd1bc1b3-51f3-49e0-a620-781a13cafd98",
   "metadata": {},
   "outputs": [],
   "source": [
    "df3.columns\n"
   ]
  },
  {
   "cell_type": "markdown",
   "id": "c79f9c32-2ed5-43ea-970e-c3a9e5ea67c7",
   "metadata": {},
   "source": [
    "# **Data Analysis**\n",
    "Show filtering, grouping, sorting, and aggregations.eg:\n",
    "- What are the top 5 most voted movies?\n",
    "- What are the top 10 movies by worldwide profit"
   ]
  },
  {
   "cell_type": "markdown",
   "id": "c9d96901-fc12-4303-95f7-caab16f2bc95",
   "metadata": {},
   "source": [
    "## **Data Manipulation and Analysis**"
   ]
  },
  {
   "cell_type": "code",
   "execution_count": null,
   "id": "0a3bca27-2d39-4864-9b5a-67e097eede98",
   "metadata": {},
   "outputs": [],
   "source": [
    "#Create profit column\n",
    "\n",
    "df3['domesticgross'] = pd.to_numeric(df3['domesticgross'], errors='coerce')\n",
    "df3['worldwidegross'] = pd.to_numeric(df3['worldwidegross'], errors='coerce')\n",
    "df3['productionbudget'] = pd.to_numeric(df3['productionbudget'], errors='coerce')\n",
    "\n",
    "df3['domestic_profit'] = df3['domesticgross'] - df3['productionbudget']\n",
    "df3['worldwide_profit'] = df3['worldwidegross'] - df3['productionbudget']"
   ]
  },
  {
   "cell_type": "code",
   "execution_count": null,
   "id": "ec713968-1cd6-462b-abca-52e7be4174ec",
   "metadata": {},
   "outputs": [],
   "source": [
    "#Top 10 movies by worldwide profit\n",
    "df3.sort_values('worldwide_profit', ascending=False)[['title', 'worldwide_profit']]\n"
   ]
  },
  {
   "cell_type": "code",
   "execution_count": null,
   "id": "2e0f16d9-eb85-47bc-9b37-566301dc2145",
   "metadata": {},
   "outputs": [],
   "source": [
    "#top languages by movie count\n",
    "df3['originallanguage'].value_counts().head(10)\n"
   ]
  },
  {
   "cell_type": "code",
   "execution_count": null,
   "id": "fb6fde46-fb07-4061-9ce4-351c847e7fc3",
   "metadata": {},
   "outputs": [],
   "source": [
    "#Top 5 rated movies\n",
    "df3[pd.to_numeric(df3['votecount'], errors='coerce') >= 100].sort_values('voteaverage', ascending=False)[['title', 'voteaverage']].head()"
   ]
  },
  {
   "cell_type": "code",
   "execution_count": null,
   "id": "e6c288bf-fb5a-40b4-847c-e2f44d721087",
   "metadata": {},
   "outputs": [],
   "source": [
    "#Group per year average budget and gross\n",
    "df3.groupby('releasedate')[['productionbudget', 'worldwidegross']].mean()\n"
   ]
  },
  {
   "cell_type": "code",
   "execution_count": null,
   "id": "1ad30790-e4b6-4aa4-af1c-390ffc5f8061",
   "metadata": {},
   "outputs": [],
   "source": [
    "#Popular and high rated movies\n",
    "df3['popularity'] = pd.to_numeric(df3['popularity'], errors='coerce')\n",
    "df3['voteaverage'] = pd.to_numeric(df3['voteaverage'], errors='coerce')\n",
    "popular_high_rated = df3[(df3['popularity'] > 30) & (df3['voteaverage'] >= 8)]\n",
    "popular_high_rated"
   ]
  },
  {
   "cell_type": "code",
   "execution_count": null,
   "id": "e64e3239-3290-40e0-8b06-52755152863f",
   "metadata": {
    "scrolled": true
   },
   "outputs": [],
   "source": [
    "#sorting data by popularity\n",
    "df3.sort_values('popularity', ascending=False).head(10)\n"
   ]
  },
  {
   "cell_type": "code",
   "execution_count": null,
   "id": "61ad6dc4-db88-47fa-bd4f-071bdd245ab6",
   "metadata": {},
   "outputs": [],
   "source": [
    "#Average vote per year\n",
    "df3.groupby('releasedate')['voteaverage'].mean().sort_index().tail(20)\n"
   ]
  },
  {
   "cell_type": "raw",
   "id": "e38afd21-583b-4a99-ae11-4fa955bc3fd2",
   "metadata": {},
   "source": [
    "#Average budget per genre\n",
    "df3.groupby('genreids')['productionbudget'].mean().sort_values(ascending=False)"
   ]
  },
  {
   "cell_type": "markdown",
   "id": "a27546a9-9c27-49d2-bd1e-e6feb88f0d21",
   "metadata": {},
   "source": [
    "## **Data Visualization**"
   ]
  },
  {
   "cell_type": "markdown",
   "id": "2924a8bc-bf72-46e6-ac49-b2f8a814fdbf",
   "metadata": {},
   "source": [
    "### 1. Horizontal Bar\n",
    "\n",
    "It shows the vote count from lowest to highest in each movie."
   ]
  },
  {
   "cell_type": "code",
   "execution_count": null,
   "id": "838ef5ce-4296-4bf3-bf9e-76c5adfbc2f1",
   "metadata": {},
   "outputs": [],
   "source": [
    "#Horizontal bar for popular movies\n",
    "df3['votecount'] = pd.to_numeric(df3['votecount'], errors='coerce')\n",
    "\n",
    "top5 = df3.sort_values(by='votecount', ascending=False).head(5)\n",
    "\n",
    "plt.figure(figsize=(8, 5))\n",
    "plt.barh(top5['originaltitle'], top5['votecount'], color='orange')\n",
    "plt.title('Top 5 Movies by Vote Count')\n",
    "plt.xlabel('Vote Count')\n",
    "plt.ylabel('Movie Title')\n",
    "plt.tight_layout()\n",
    "plt.show()\n"
   ]
  },
  {
   "cell_type": "markdown",
   "id": "c21976e9-8368-41b6-bd71-3b5bc91836e4",
   "metadata": {},
   "source": [
    "### 2.Scatter Plot\n",
    "\n",
    "It show the rating of movies in the number of votes "
   ]
  },
  {
   "cell_type": "code",
   "execution_count": null,
   "id": "ceddd8f8-6abc-4727-a0f7-3c5c596eae33",
   "metadata": {},
   "outputs": [],
   "source": [
    "#Scatter plot for popularity in vote count\n",
    "df_clean = df3[['votecount', 'voteaverage']].dropna()\n",
    "df_sample = df_clean.tail(100)\n",
    "\n",
    "plt.figure(figsize=(8, 5))\n",
    "plt.scatter(df_sample['votecount'], df_sample['voteaverage'], alpha=0.6, color='green')\n",
    "plt.title('Vote Count vs Vote Average')\n",
    "plt.xlabel('Vote Count')\n",
    "plt.ylabel('Vote Average')\n",
    "plt.grid(True)\n",
    "plt.tight_layout()\n",
    "plt.show()"
   ]
  },
  {
   "cell_type": "markdown",
   "id": "a0107d5f-0adb-48c2-9436-f530f63652a4",
   "metadata": {},
   "source": [
    "### 3. Box Plot\n",
    "\n",
    "It shows distribution for movie popularity in my dataframe"
   ]
  },
  {
   "cell_type": "code",
   "execution_count": null,
   "id": "339aeeba-c22e-4162-8011-523f1484c552",
   "metadata": {},
   "outputs": [],
   "source": [
    "#Box plot for movie popularity\n",
    "popularity_clean = df3['popularity'].dropna()\n",
    "popularity_sample = popularity_clean.head(10)\n",
    "\n",
    "plt.figure(figsize=(6, 5))\n",
    "plt.boxplot(popularity_clean)\n",
    "plt.title('Box Plot of Movie Popularity')\n",
    "plt.ylabel('Popularity')\n",
    "plt.grid(True)\n",
    "plt.tight_layout()\n",
    "plt.show()\n"
   ]
  },
  {
   "cell_type": "markdown",
   "id": "be4c9b10-572e-4ebc-80e0-d87c2e0f4fa9",
   "metadata": {},
   "source": [
    "### 4. Line Graph\n",
    "\n",
    "it shows popularity of movies per year"
   ]
  },
  {
   "cell_type": "code",
   "execution_count": null,
   "id": "8a60f652-ba48-4748-a20d-d5e7f95eab95",
   "metadata": {},
   "outputs": [],
   "source": [
    "#Line graph for movie popularity in each year\n",
    "df3['releasedate'] = pd.to_datetime(df3['releasedate'], errors='coerce')\n",
    "df3['release_year'] = df3['releasedate'].dt.year\n",
    "\n",
    "pop_by_year = df3.groupby('release_year')['popularity'].mean().dropna().head(10)\n",
    "\n",
    "plt.figure(figsize=(10, 5))\n",
    "plt.plot(pop_by_year.index, pop_by_year.values, marker='o')\n",
    "plt.title('Average Popularity Over Years')\n",
    "plt.xlabel('Year')\n",
    "plt.ylabel('Popularity'\n",
    "plt.grid(True)\n",
    "plt.tight_layout()\n",
    "plt.show()\n",
    "\n"
   ]
  },
  {
   "cell_type": "markdown",
   "id": "b96aef49-60d7-4804-b755-e89da034e0b0",
   "metadata": {},
   "source": [
    "### 5.Histogram\n",
    "It shows how many movies are popular"
   ]
  },
  {
   "cell_type": "code",
   "execution_count": null,
   "id": "421e2f64-bf66-41be-b5d3-9ac6efef3410",
   "metadata": {},
   "outputs": [],
   "source": [
    "#Histogram for movie popularity\n",
    "plt.figure(figsize=(8, 5))\n",
    "plt.hist(df3['popularity'].dropna(), bins=10, color='purple', edgecolor='black')\n",
    "plt.title('Histogram of Movie Popularity')\n",
    "plt.xlabel('Popularity')\n",
    "plt.ylabel('Number of Movies')\n",
    "plt.grid(True)\n",
    "plt.tight_layout()\n",
    "plt.show()\n"
   ]
  },
  {
   "cell_type": "markdown",
   "id": "db99687c-c9e5-4bd3-92cc-a9dba454ab7c",
   "metadata": {},
   "source": [
    "# **Business Understanding**\n",
    "- The studio should focus on the movie genre and see which movies get more vote count\n",
    "- It`s imporntant to not focus on movie popularity but also attention catching and trendy movies\n",
    "- Plan when to release a movie depending with the right season\n",
    "- Marketing and advertising the movie for its popularity"
   ]
  },
  {
   "cell_type": "markdown",
   "id": "82b8411d-c940-4eef-a48b-f26492884b10",
   "metadata": {},
   "source": [
    "# **Conclusion**\n",
    "- Many movies are not popular\n",
    "- Many popular movie dont have high ratings\n",
    "- Popularity goes together with vote count\n",
    "  "
   ]
  },
  {
   "cell_type": "code",
   "execution_count": null,
   "id": "719d08a6-6ed3-4b34-8df8-5ee3e7035d74",
   "metadata": {},
   "outputs": [],
   "source": []
  },
  {
   "cell_type": "code",
   "execution_count": null,
   "id": "4baad24d-6015-4b2b-af46-b3896468149a",
   "metadata": {},
   "outputs": [],
   "source": []
  }
 ],
 "metadata": {
  "kernelspec": {
   "display_name": "Python 3 (ipykernel)",
   "language": "python",
   "name": "python3"
  },
  "language_info": {
   "codemirror_mode": {
    "name": "ipython",
    "version": 3
   },
   "file_extension": ".py",
   "mimetype": "text/x-python",
   "name": "python",
   "nbconvert_exporter": "python",
   "pygments_lexer": "ipython3",
   "version": "3.11.7"
  },
  "widgets": {
   "application/vnd.jupyter.widget-state+json": {
    "state": {},
    "version_major": 2,
    "version_minor": 0
   }
  }
 },
 "nbformat": 4,
 "nbformat_minor": 5
}
